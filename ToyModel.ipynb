{
  "nbformat": 4,
  "nbformat_minor": 0,
  "metadata": {
    "colab": {
      "provenance": [],
      "include_colab_link": true
    },
    "kernelspec": {
      "name": "python3",
      "display_name": "Python 3"
    },
    "language_info": {
      "name": "python"
    }
  },
  "cells": [
    {
      "cell_type": "markdown",
      "metadata": {
        "id": "view-in-github",
        "colab_type": "text"
      },
      "source": [
        "<a href=\"https://colab.research.google.com/github/EinarLop/100OriginalInventorySystem/blob/master/ToyModel.ipynb\" target=\"_parent\"><img src=\"https://colab.research.google.com/assets/colab-badge.svg\" alt=\"Open In Colab\"/></a>"
      ]
    },
    {
      "cell_type": "code",
      "execution_count": null,
      "metadata": {
        "colab": {
          "base_uri": "https://localhost:8080/"
        },
        "id": "isgk2GfFsPGy",
        "outputId": "f70cec73-6316-4f18-df35-4d54f2e07752",
        "collapsed": true
      },
      "outputs": [
        {
          "output_type": "stream",
          "name": "stdout",
          "text": [
            "Requirement already satisfied: torch_geometric in /usr/local/lib/python3.10/dist-packages (2.6.1)\n",
            "Requirement already satisfied: aiohttp in /usr/local/lib/python3.10/dist-packages (from torch_geometric) (3.11.1)\n",
            "Requirement already satisfied: fsspec in /usr/local/lib/python3.10/dist-packages (from torch_geometric) (2024.10.0)\n",
            "Requirement already satisfied: jinja2 in /usr/local/lib/python3.10/dist-packages (from torch_geometric) (3.1.4)\n",
            "Requirement already satisfied: numpy in /usr/local/lib/python3.10/dist-packages (from torch_geometric) (1.26.4)\n",
            "Requirement already satisfied: psutil>=5.8.0 in /usr/local/lib/python3.10/dist-packages (from torch_geometric) (5.9.5)\n",
            "Requirement already satisfied: pyparsing in /usr/local/lib/python3.10/dist-packages (from torch_geometric) (3.2.0)\n",
            "Requirement already satisfied: requests in /usr/local/lib/python3.10/dist-packages (from torch_geometric) (2.32.3)\n",
            "Requirement already satisfied: tqdm in /usr/local/lib/python3.10/dist-packages (from torch_geometric) (4.66.6)\n",
            "Requirement already satisfied: aiohappyeyeballs>=2.3.0 in /usr/local/lib/python3.10/dist-packages (from aiohttp->torch_geometric) (2.4.3)\n",
            "Requirement already satisfied: aiosignal>=1.1.2 in /usr/local/lib/python3.10/dist-packages (from aiohttp->torch_geometric) (1.3.1)\n",
            "Requirement already satisfied: attrs>=17.3.0 in /usr/local/lib/python3.10/dist-packages (from aiohttp->torch_geometric) (24.2.0)\n",
            "Requirement already satisfied: frozenlist>=1.1.1 in /usr/local/lib/python3.10/dist-packages (from aiohttp->torch_geometric) (1.5.0)\n",
            "Requirement already satisfied: multidict<7.0,>=4.5 in /usr/local/lib/python3.10/dist-packages (from aiohttp->torch_geometric) (6.1.0)\n",
            "Requirement already satisfied: propcache>=0.2.0 in /usr/local/lib/python3.10/dist-packages (from aiohttp->torch_geometric) (0.2.0)\n",
            "Requirement already satisfied: yarl<2.0,>=1.17.0 in /usr/local/lib/python3.10/dist-packages (from aiohttp->torch_geometric) (1.17.1)\n",
            "Requirement already satisfied: async-timeout<6.0,>=4.0 in /usr/local/lib/python3.10/dist-packages (from aiohttp->torch_geometric) (4.0.3)\n",
            "Requirement already satisfied: MarkupSafe>=2.0 in /usr/local/lib/python3.10/dist-packages (from jinja2->torch_geometric) (3.0.2)\n",
            "Requirement already satisfied: charset-normalizer<4,>=2 in /usr/local/lib/python3.10/dist-packages (from requests->torch_geometric) (3.4.0)\n",
            "Requirement already satisfied: idna<4,>=2.5 in /usr/local/lib/python3.10/dist-packages (from requests->torch_geometric) (3.10)\n",
            "Requirement already satisfied: urllib3<3,>=1.21.1 in /usr/local/lib/python3.10/dist-packages (from requests->torch_geometric) (2.2.3)\n",
            "Requirement already satisfied: certifi>=2017.4.17 in /usr/local/lib/python3.10/dist-packages (from requests->torch_geometric) (2024.8.30)\n",
            "Requirement already satisfied: typing-extensions>=4.1.0 in /usr/local/lib/python3.10/dist-packages (from multidict<7.0,>=4.5->aiohttp->torch_geometric) (4.12.2)\n"
          ]
        }
      ],
      "source": [
        "#Install torch_geometric (everything else is pre-installed in Colab\n",
        "# Add more rows if woring from Pycharm etc.)\n",
        "!pip install torch_geometric\n",
        "#Unzip the archive with data\n",
        "#!unzip results.zip"
      ]
    },
    {
      "cell_type": "code",
      "source": [
        "import torch\n",
        "from torch_geometric.data import Data\n",
        "from torch_geometric.loader import DataLoader\n",
        "import glob\n",
        "import numpy as np"
      ],
      "metadata": {
        "id": "f7rUK8I_-Ykt"
      },
      "execution_count": null,
      "outputs": []
    },
    {
      "cell_type": "code",
      "source": [
        "# Red all matrix files and convert them into a list of lists\n",
        "mat_files = sorted(glob.glob('/content/*.mat'))\n",
        "if 'config_1.mat' in mat_files:\n",
        "    mat_files.remove('config_1.mat')\n",
        "\n",
        "all_matrices = []\n",
        "for path in mat_files:\n",
        "  with open(path, 'r') as f:\n",
        "    content = f.read()\n",
        "  # Remove the first and last character ('[' and ']')\n",
        "  content = content[1:-1]\n",
        "  string_list = []\n",
        "  current_row = ''\n",
        "  start_line = False\n",
        "  for c in content:\n",
        "      if c == '[':\n",
        "          start_line = True\n",
        "      elif c == ']':\n",
        "          start_line = False\n",
        "          string_list.append(current_row)\n",
        "          current_row = ''\n",
        "      elif start_line:\n",
        "          if c != '\\n':\n",
        "              current_row += c\n",
        "  matrix = []\n",
        "  for string in string_list:\n",
        "    vals = string.replace('.', ' ').split()\n",
        "    vals = [int(v) for v in vals]\n",
        "    matrix.append(vals)\n",
        "  all_matrices.append(matrix)"
      ],
      "metadata": {
        "id": "1qrLSPbbs-VG"
      },
      "execution_count": null,
      "outputs": []
    },
    {
      "cell_type": "code",
      "source": [
        "print(all_matrices[0])\n",
        "print(all_matrices[1])\n",
        "print(all_matrices[2])"
      ],
      "metadata": {
        "colab": {
          "base_uri": "https://localhost:8080/"
        },
        "id": "9cbrav5-jVD3",
        "outputId": "df85c113-a712-4885-9d3c-62e84e3310ce"
      },
      "execution_count": null,
      "outputs": [
        {
          "output_type": "stream",
          "name": "stdout",
          "text": [
            "[[0, 1, 1, 0, 0, 0, 0, 0, 0, 0, 0, 0, 0, 0, 0, 0, 0, 0, 0, 0, 0, 0, 0, 0, 0, 0], [1, 0, 0, 0, 0, 0, 0, 0, 0, 1, 0, 0, 0, 0, 0, 0, 0, 0, 0, 0, 0, 0, 0, 0, 0, 0], [1, 0, 0, 0, 0, 0, 0, 0, 0, 0, 1, 0, 0, 0, 0, 0, 0, 0, 0, 0, 0, 0, 0, 0, 0, 0], [0, 0, 0, 0, 1, 1, 0, 0, 0, 0, 0, 0, 0, 0, 0, 0, 0, 0, 0, 0, 0, 0, 0, 0, 0, 0], [0, 0, 0, 1, 0, 0, 0, 0, 0, 0, 0, 1, 0, 0, 0, 0, 0, 0, 0, 0, 0, 0, 0, 0, 0, 0], [0, 0, 0, 1, 0, 0, 0, 0, 0, 0, 0, 0, 1, 0, 0, 0, 0, 0, 0, 0, 0, 0, 0, 0, 0, 0], [0, 0, 0, 0, 0, 0, 0, 1, 1, 0, 0, 0, 0, 0, 0, 0, 0, 0, 0, 0, 0, 0, 0, 0, 0, 0], [0, 0, 0, 0, 0, 0, 1, 0, 0, 0, 0, 0, 0, 1, 0, 0, 0, 0, 0, 0, 0, 0, 0, 0, 0, 0], [0, 0, 0, 0, 0, 0, 1, 0, 0, 0, 0, 0, 0, 0, 1, 0, 0, 0, 0, 0, 0, 0, 0, 0, 0, 0], [0, 1, 0, 0, 0, 0, 0, 0, 0, 0, 0, 0, 0, 0, 0, 0, 0, 0, 1, 0, 0, 0, 0, 0, 0, 0], [0, 0, 1, 0, 0, 0, 0, 0, 0, 0, 0, 0, 0, 0, 0, 0, 0, 0, 0, 1, 0, 0, 0, 0, 0, 0], [0, 0, 0, 0, 1, 0, 0, 0, 0, 0, 0, 0, 0, 0, 0, 0, 0, 0, 0, 0, 1, 0, 0, 0, 0, 0], [0, 0, 0, 0, 0, 1, 0, 0, 0, 0, 0, 0, 0, 0, 0, 0, 0, 0, 0, 0, 0, 1, 0, 0, 0, 0], [0, 0, 0, 0, 0, 0, 0, 1, 0, 0, 0, 0, 0, 0, 0, 0, 0, 0, 0, 0, 0, 0, 1, 0, 0, 0], [0, 0, 0, 0, 0, 0, 0, 0, 1, 0, 0, 0, 0, 0, 0, 0, 0, 0, 0, 0, 0, 0, 0, 1, 0, 0], [0, 0, 0, 0, 0, 0, 0, 0, 0, 0, 0, 0, 0, 0, 0, 0, 1, 0, 0, 0, 0, 0, 0, 0, 1, 0], [0, 0, 0, 0, 0, 0, 0, 0, 0, 0, 0, 0, 0, 0, 0, 1, 0, 1, 0, 0, 0, 0, 0, 0, 0, 0], [0, 0, 0, 0, 0, 0, 0, 0, 0, 0, 0, 0, 0, 0, 0, 0, 1, 0, 0, 0, 0, 0, 0, 0, 0, 1], [0, 0, 0, 0, 0, 0, 0, 0, 0, 1, 0, 0, 0, 0, 0, 0, 0, 0, 0, 0, 0, 0, 0, 0, 1, 0], [0, 0, 0, 0, 0, 0, 0, 0, 0, 0, 1, 0, 0, 0, 0, 0, 0, 0, 0, 0, 0, 0, 0, 0, 0, 1], [0, 0, 0, 0, 0, 0, 0, 0, 0, 0, 0, 1, 0, 0, 0, 0, 0, 0, 0, 0, 0, 0, 0, 0, 1, 0], [0, 0, 0, 0, 0, 0, 0, 0, 0, 0, 0, 0, 1, 0, 0, 0, 0, 0, 0, 0, 0, 0, 0, 0, 0, 1], [0, 0, 0, 0, 0, 0, 0, 0, 0, 0, 0, 0, 0, 1, 0, 0, 0, 0, 0, 0, 0, 0, 0, 0, 1, 0], [0, 0, 0, 0, 0, 0, 0, 0, 0, 0, 0, 0, 0, 0, 1, 0, 0, 0, 0, 0, 0, 0, 0, 0, 0, 1], [0, 0, 0, 0, 0, 0, 0, 0, 0, 0, 0, 0, 0, 0, 0, 1, 0, 0, 1, 0, 1, 0, 1, 0, 0, 0], [0, 0, 0, 0, 0, 0, 0, 0, 0, 0, 0, 0, 0, 0, 0, 0, 0, 1, 0, 1, 0, 1, 0, 1, 0, 0]]\n",
            "[[0, 0, 0, 0, 0, 0, 0, 0, 0, 0, 0, 0, 0, 0, 0, 0, 0, 0, 0, 0, 0, 0, 0, 0, 0, 0], [0, 0, 0, 0, 0, 0, 0, 0, 0, 0, 0, 0, 0, 0, 0, 0, 0, 0, 0, 0, 0, 0, 0, 0, 0, 0], [0, 0, 0, 0, 0, 0, 0, 0, 0, 0, 0, 0, 0, 0, 0, 0, 0, 0, 0, 0, 0, 0, 0, 0, 0, 0], [0, 0, 0, 0, 0, 0, 0, 0, 0, 0, 0, 0, 0, 0, 0, 0, 0, 0, 0, 0, 0, 0, 0, 0, 0, 0], [0, 0, 0, 0, 0, 0, 0, 0, 0, 0, 0, 0, 0, 0, 0, 0, 0, 0, 0, 0, 0, 0, 0, 0, 0, 0], [0, 0, 0, 0, 0, 0, 0, 0, 0, 0, 0, 0, 0, 0, 0, 0, 0, 0, 0, 0, 0, 0, 0, 0, 0, 0], [0, 0, 0, 0, 0, 0, 0, 0, 0, 0, 0, 0, 0, 0, 0, 0, 0, 0, 0, 0, 0, 0, 0, 0, 0, 0], [0, 0, 0, 0, 0, 0, 0, 0, 0, 0, 0, 0, 0, 0, 0, 0, 0, 0, 0, 0, 0, 0, 0, 0, 0, 0], [0, 0, 0, 0, 0, 0, 0, 0, 0, 0, 0, 0, 0, 0, 0, 0, 0, 0, 0, 0, 0, 0, 0, 0, 0, 0], [0, 0, 0, 0, 0, 0, 0, 0, 0, 0, 0, 0, 0, 0, 0, 0, 0, 0, 0, 0, 0, 0, 0, 0, 0, 0], [0, 0, 0, 0, 0, 0, 0, 0, 0, 0, 0, 0, 0, 0, 0, 0, 0, 0, 0, 0, 0, 0, 0, 0, 0, 0], [0, 0, 0, 0, 0, 0, 0, 0, 0, 0, 0, 0, 0, 0, 0, 0, 0, 0, 0, 0, 0, 0, 0, 0, 0, 0], [0, 0, 0, 0, 0, 0, 0, 0, 0, 0, 0, 0, 0, 0, 0, 0, 0, 0, 0, 0, 0, 0, 0, 0, 0, 0], [0, 0, 0, 0, 0, 0, 0, 0, 0, 0, 0, 0, 0, 0, 0, 0, 0, 0, 0, 0, 0, 0, 0, 0, 0, 0], [0, 0, 0, 0, 0, 0, 0, 0, 0, 0, 0, 0, 0, 0, 0, 0, 0, 0, 0, 0, 0, 0, 0, 0, 0, 0], [0, 0, 0, 0, 0, 0, 0, 0, 0, 0, 0, 0, 0, 0, 0, 0, 0, 0, 0, 0, 0, 0, 0, 0, 0, 0], [0, 0, 0, 0, 0, 0, 0, 0, 0, 0, 0, 0, 0, 0, 0, 0, 0, 0, 0, 0, 0, 0, 0, 0, 0, 0], [0, 0, 0, 0, 0, 0, 0, 0, 0, 0, 0, 0, 0, 0, 0, 0, 0, 0, 0, 0, 0, 0, 0, 0, 0, 0], [0, 0, 0, 0, 0, 0, 0, 0, 0, 0, 0, 0, 0, 0, 0, 0, 0, 0, 0, 0, 0, 0, 0, 0, 0, 0], [0, 0, 0, 0, 0, 0, 0, 0, 0, 0, 0, 0, 0, 0, 0, 0, 0, 0, 0, 0, 0, 0, 0, 0, 0, 0], [0, 0, 0, 0, 0, 0, 0, 0, 0, 0, 0, 0, 0, 0, 0, 0, 0, 0, 0, 0, 0, 0, 0, 0, 0, 0], [0, 0, 0, 0, 0, 0, 0, 0, 0, 0, 0, 0, 0, 0, 0, 0, 0, 0, 0, 0, 0, 0, 0, 0, 0, 0], [0, 0, 0, 0, 0, 0, 0, 0, 0, 0, 0, 0, 0, 0, 0, 0, 0, 0, 0, 0, 0, 0, 0, 0, 0, 0], [0, 0, 0, 0, 0, 0, 0, 0, 0, 0, 0, 0, 0, 0, 0, 0, 0, 0, 0, 0, 0, 0, 0, 0, 0, 0], [0, 0, 0, 0, 0, 0, 0, 0, 0, 0, 0, 0, 0, 0, 0, 0, 0, 0, 0, 0, 0, 0, 0, 0, 0, 0], [0, 0, 0, 0, 0, 0, 0, 0, 0, 0, 0, 0, 0, 0, 0, 0, 0, 0, 0, 0, 0, 0, 0, 0, 0, 0]]\n",
            "[[0, 0, 0, 0, 0, 0, 0, 0, 0, 0, 0, 0, 0, 0, 0, 0, 0, 0, 0, 0, 0, 0, 0, 0, 0, 0], [0, 0, 0, 0, 0, 0, 0, 0, 0, 0, 0, 0, 0, 0, 0, 0, 0, 0, 0, 0, 0, 0, 0, 0, 0, 0], [0, 0, 0, 0, 0, 0, 0, 0, 0, 0, 0, 0, 0, 0, 0, 0, 0, 0, 0, 0, 0, 0, 0, 0, 0, 0], [0, 0, 0, 0, 0, 1, 0, 0, 0, 0, 0, 0, 0, 0, 0, 0, 0, 0, 0, 0, 0, 0, 0, 0, 0, 0], [0, 0, 0, 0, 0, 0, 0, 0, 0, 0, 0, 0, 0, 0, 0, 0, 0, 0, 0, 0, 0, 0, 0, 0, 0, 0], [0, 0, 0, 1, 0, 0, 0, 0, 0, 0, 0, 0, 1, 0, 0, 0, 0, 0, 0, 0, 0, 0, 0, 0, 0, 0], [0, 0, 0, 0, 0, 0, 0, 0, 1, 0, 0, 0, 0, 0, 0, 0, 0, 0, 0, 0, 0, 0, 0, 0, 0, 0], [0, 0, 0, 0, 0, 0, 0, 0, 0, 0, 0, 0, 0, 0, 0, 0, 0, 0, 0, 0, 0, 0, 0, 0, 0, 0], [0, 0, 0, 0, 0, 0, 1, 0, 0, 0, 0, 0, 0, 0, 1, 0, 0, 0, 0, 0, 0, 0, 0, 0, 0, 0], [0, 0, 0, 0, 0, 0, 0, 0, 0, 0, 0, 0, 0, 0, 0, 0, 0, 0, 0, 0, 0, 0, 0, 0, 0, 0], [0, 0, 0, 0, 0, 0, 0, 0, 0, 0, 0, 0, 0, 0, 0, 0, 0, 0, 0, 0, 0, 0, 0, 0, 0, 0], [0, 0, 0, 0, 0, 0, 0, 0, 0, 0, 0, 0, 0, 0, 0, 0, 0, 0, 0, 0, 0, 0, 0, 0, 0, 0], [0, 0, 0, 0, 0, 1, 0, 0, 0, 0, 0, 0, 0, 0, 0, 0, 0, 0, 0, 0, 0, 1, 0, 0, 0, 0], [0, 0, 0, 0, 0, 0, 0, 0, 0, 0, 0, 0, 0, 0, 0, 0, 0, 0, 0, 0, 0, 0, 0, 0, 0, 0], [0, 0, 0, 0, 0, 0, 0, 0, 1, 0, 0, 0, 0, 0, 0, 0, 0, 0, 0, 0, 0, 0, 0, 1, 0, 0], [0, 0, 0, 0, 0, 0, 0, 0, 0, 0, 0, 0, 0, 0, 0, 0, 1, 0, 0, 0, 0, 0, 0, 0, 1, 0], [0, 0, 0, 0, 0, 0, 0, 0, 0, 0, 0, 0, 0, 0, 0, 1, 0, 1, 0, 0, 0, 0, 0, 0, 0, 0], [0, 0, 0, 0, 0, 0, 0, 0, 0, 0, 0, 0, 0, 0, 0, 0, 1, 0, 0, 0, 0, 0, 0, 0, 0, 1], [0, 0, 0, 0, 0, 0, 0, 0, 0, 0, 0, 0, 0, 0, 0, 0, 0, 0, 0, 0, 0, 0, 0, 0, 1, 0], [0, 0, 0, 0, 0, 0, 0, 0, 0, 0, 0, 0, 0, 0, 0, 0, 0, 0, 0, 0, 0, 0, 0, 0, 0, 1], [0, 0, 0, 0, 0, 0, 0, 0, 0, 0, 0, 0, 0, 0, 0, 0, 0, 0, 0, 0, 0, 0, 0, 0, 1, 0], [0, 0, 0, 0, 0, 0, 0, 0, 0, 0, 0, 0, 1, 0, 0, 0, 0, 0, 0, 0, 0, 0, 0, 0, 0, 1], [0, 0, 0, 0, 0, 0, 0, 0, 0, 0, 0, 0, 0, 0, 0, 0, 0, 0, 0, 0, 0, 0, 0, 0, 1, 0], [0, 0, 0, 0, 0, 0, 0, 0, 0, 0, 0, 0, 0, 0, 1, 0, 0, 0, 0, 0, 0, 0, 0, 0, 0, 1], [0, 0, 0, 0, 0, 0, 0, 0, 0, 0, 0, 0, 0, 0, 0, 1, 0, 0, 1, 0, 1, 0, 1, 0, 0, 0], [0, 0, 0, 0, 0, 0, 0, 0, 0, 0, 0, 0, 0, 0, 0, 0, 0, 1, 0, 1, 0, 1, 0, 1, 0, 0]]\n"
          ]
        }
      ]
    },
    {
      "cell_type": "code",
      "source": [
        "# Convert adjacency matrices into edge indices.\n",
        "# An edge index is a 2 x Num_Of_Vert array. Here is an example\n",
        "# [[ 1, 2, 2, 3],\n",
        "#  [ 2, 1, 3, 2]]\n",
        "# You read the list by pairing numbers from top row with numbers from bottom row\n",
        "# In this example, 1 connects to 2, 2 connects to 1, 2 connects to 3,\n",
        "# and 3 connects to 2.\n",
        "# PyTorch Geometric works with this format of edge connection\n",
        "\n",
        "# List to hold edge indices for all indices\n",
        "all_edge_indices = []\n",
        "\n",
        "# Process each matrix in the list\n",
        "for matrix in all_matrices:\n",
        "    # Convert the 2D list to a numpy array\n",
        "    matrix_np = np.array(matrix)\n",
        "\n",
        "    # Get the indices where there are edges (i.e., non-zero entries)\n",
        "    edge_indices = np.nonzero(matrix_np)\n",
        "\n",
        "    # Stack the indices into a 2xN array where each column represents an edge\n",
        "    edge_index = torch.tensor(np.vstack(edge_indices), dtype=torch.long)\n",
        "\n",
        "    # Append the edge_index tensor to the list\n",
        "    all_edge_indices.append(edge_index)"
      ],
      "metadata": {
        "collapsed": true,
        "id": "73keGdgCA46L"
      },
      "execution_count": null,
      "outputs": []
    },
    {
      "cell_type": "code",
      "source": [
        "# Read target values from rel files\n",
        "rel_files = sorted(glob.glob('/content/*.rel'))\n",
        "all_rels = []\n",
        "if 'config_1.rel' in mat_files:\n",
        "    mat_files.remove('config_1.rel')\n",
        "for path in rel_files:\n",
        "  with open(path, 'r') as f:\n",
        "    y_val = float(f.read())\n",
        "  all_rels.append(y_val)\n",
        "# Convert the list of float values to a PyTorch tensor\n",
        "all_rels_tensor = torch.tensor(all_rels)\n"
      ],
      "metadata": {
        "id": "vhE_t_fR_WWv"
      },
      "execution_count": null,
      "outputs": []
    },
    {
      "cell_type": "code",
      "source": [
        "all_rels_tensor.shape"
      ],
      "metadata": {
        "colab": {
          "base_uri": "https://localhost:8080/"
        },
        "id": "k-_o2_AYiK0p",
        "outputId": "6fc6003c-54d8-41d2-8dda-5dad3ab834b3"
      },
      "execution_count": null,
      "outputs": [
        {
          "output_type": "execute_result",
          "data": {
            "text/plain": [
              "torch.Size([220])"
            ]
          },
          "metadata": {},
          "execution_count": 7
        }
      ]
    },
    {
      "cell_type": "code",
      "source": [
        "print(len(mat_files))\n",
        "print(len(rel_files))"
      ],
      "metadata": {
        "colab": {
          "base_uri": "https://localhost:8080/"
        },
        "id": "8HsxOto3pC9e",
        "outputId": "d6ffdd7c-7635-49e8-e513-8a34ab9c9895"
      },
      "execution_count": null,
      "outputs": [
        {
          "output_type": "stream",
          "name": "stdout",
          "text": [
            "220\n",
            "220\n"
          ]
        }
      ]
    },
    {
      "cell_type": "code",
      "source": [
        "print(all_matrices[0][3])\n",
        "print(all_rels[0])"
      ],
      "metadata": {
        "colab": {
          "base_uri": "https://localhost:8080/"
        },
        "id": "69uS3wompR5H",
        "outputId": "60efb75a-5940-451a-c879-448766e8e86d"
      },
      "execution_count": null,
      "outputs": [
        {
          "output_type": "stream",
          "name": "stdout",
          "text": [
            "[0, 0, 0, 0, 1, 1, 0, 0, 0, 0, 0, 0, 0, 0, 0, 0, 0, 0, 0, 0, 0, 0, 0, 0, 0, 0]\n",
            "0.9870956549289328\n"
          ]
        }
      ]
    },
    {
      "cell_type": "code",
      "source": [
        "#Create one Data object per graph and put them into one list\n",
        "# TODO: Create PyTOrch Geometric Dataset object (https://pytorch-geometric.readthedocs.io/en/latest/tutorial/create_dataset.html)\n",
        "# Each Data object should have node features in a tensor called X,\n",
        "# (we dont' have any node features yet, that's why there are placeholders)\n",
        "# target tensor called Y, and edge_index from before.\n",
        "data_list = []\n",
        "for i in range(len(all_matrices)):\n",
        "  num_nodes = len(all_matrices[i])  # Number of nodes from adjacency matrix\n",
        "  node_features = torch.ones((num_nodes, 1))  # Dummy feature of 1.0 for each node\n",
        "  edge_index = all_edge_indices[i]\n",
        "  #TODO: there is one less rel file than mat files. It is because config1 (empty config)\n",
        "  #Does not have corresponding rel value (which makes sense because empty system doesnt have reliability)\n",
        "  #Because of that there is one less y valye than x values. I think the easest way to fix this\n",
        "  #is by removing config1.mat entirely, but I am irested in your thoughts - Pasha\n",
        "  y = all_rels_tensor[i]\n",
        "\n",
        "  data = Data(x=node_features, edge_index=edge_index, y=y)\n",
        "  data_list.append(data)"
      ],
      "metadata": {
        "id": "fDIDG4rECwVB"
      },
      "execution_count": null,
      "outputs": []
    },
    {
      "cell_type": "code",
      "source": [
        "from sklearn.model_selection import train_test_split\n",
        "\n",
        "# Split data and create DataLoader objects for training\n",
        "train_data_list, test_data_list = train_test_split(data_list, test_size=0.2, random_state=42)\n",
        "train_loader = DataLoader(train_data_list, batch_size=32, shuffle=True)\n",
        "test_loader = DataLoader(test_data_list, batch_size=32, shuffle=False)"
      ],
      "metadata": {
        "id": "NTedO4AOK_qR"
      },
      "execution_count": null,
      "outputs": []
    },
    {
      "cell_type": "code",
      "source": [
        "# Define a GCN (this one is from PyTorch Geometric tutorial, feel free to experiment)\n",
        "import torch\n",
        "import torch.nn.functional as F\n",
        "from torch_geometric.nn import GCNConv, global_mean_pool\n",
        "\n",
        "class GCN(torch.nn.Module):\n",
        "    def __init__(self, num_node_features = 1):\n",
        "        super().__init__()\n",
        "        self.conv1 = GCNConv(num_node_features, 32)\n",
        "        self.conv2 = GCNConv(32, 16)\n",
        "        self.conv3 = GCNConv(16, 8)\n",
        "        self.fc = torch.nn.Linear(8, 1)\n",
        "\n",
        "    def forward(self, data):\n",
        "        x, edge_index, batch = data.x, data.edge_index, data.batch\n",
        "\n",
        "        # First GCN layer\n",
        "        x = self.conv1(x, edge_index)\n",
        "        x = F.relu(x)\n",
        "\n",
        "        # Second GCN layer\n",
        "        x = self.conv2(x, edge_index)\n",
        "        x = F.relu(x)\n",
        "\n",
        "        # Third GCN layer\n",
        "        x = self.conv3(x, edge_index)\n",
        "        x = F.sigmoid(x)\n",
        "\n",
        "        # Global mean pooling to get graph-level representation\n",
        "        x = global_mean_pool(x, batch)  # Shape: [batch_size, hidden_channels]\n",
        "\n",
        "        # Final fully connected layer\n",
        "        x = self.fc(x)  # Shape: [batch_size, 1]\n",
        "\n",
        "        return x"
      ],
      "metadata": {
        "id": "aoqfeajhHA6j"
      },
      "execution_count": null,
      "outputs": []
    },
    {
      "cell_type": "code",
      "source": [
        "import torch.optim as optim\n",
        "import time\n",
        "\n",
        "# Initialize the model, optimizer, and loss function\n",
        "model = GCN()  # Since our node features have dimension 1\n",
        "optimizer = optim.Adam(model.parameters(), lr=0.01)\n",
        "criterion = torch.nn.MSELoss()\n",
        "\n",
        "# Training parameters\n",
        "num_epochs = 20\n",
        "\n",
        "# Training loop\n",
        "for epoch in range(num_epochs):\n",
        "    model.train()\n",
        "    total_loss = 0\n",
        "\n",
        "    for data in train_loader:\n",
        "        optimizer.zero_grad()\n",
        "        out = model(data).squeeze()  # Shape: [batch_size]\n",
        "        loss = criterion(out, data.y)\n",
        "        loss.backward()\n",
        "        optimizer.step()\n",
        "        total_loss += loss.item() * data.num_graphs  # Accumulate loss\n",
        "\n",
        "    avg_train_loss = total_loss / len(data_list)\n",
        "    # Validation Phase\n",
        "    model.eval()\n",
        "    total_val_loss = 0\n",
        "\n",
        "    # Prediction time\n",
        "    total_predictions = 0\n",
        "    total_prediction_time = 0\n",
        "    total_val_loss = 0\n",
        "\n",
        "    with torch.no_grad():\n",
        "        for data in test_loader:\n",
        "\n",
        "            # Start time\n",
        "            batch_start_time = time.time()\n",
        "\n",
        "            out = model(data).squeeze()\n",
        "\n",
        "            # End time\n",
        "            batch_end_time = time.time()\n",
        "            batch_prediction_time = batch_end_time - batch_start_time\n",
        "            total_prediction_time += batch_prediction_time\n",
        "\n",
        "            total_predictions += data.num_graphs\n",
        "\n",
        "            loss = criterion(out, data.y)\n",
        "            total_val_loss += loss.item() * data.num_graphs\n",
        "\n",
        "    avg_val_loss = total_val_loss / len(test_data_list)\n",
        "    avg_prediction_time = total_prediction_time / total_predictions\n",
        "\n",
        "    print(f'Epoch {epoch+1}/{num_epochs}, Training Loss: {avg_train_loss:.4f}, Validation Loss: {avg_val_loss:.4f}, Average Prediction Time (s): {avg_prediction_time:.6f} per graph\\n')\n",
        "\n"
      ],
      "metadata": {
        "colab": {
          "base_uri": "https://localhost:8080/"
        },
        "id": "cQgcQ6JuFcDx",
        "outputId": "f49328eb-c013-4e6b-d52c-b4420e1dc6db"
      },
      "execution_count": null,
      "outputs": [
        {
          "output_type": "stream",
          "name": "stdout",
          "text": [
            "Epoch 1/20, Training Loss: 0.4624, Validation Loss: 0.2081, Average Prediction Time (s): 0.000449 per graph\n",
            "\n",
            "Epoch 2/20, Training Loss: 0.0707, Validation Loss: 0.0007, Average Prediction Time (s): 0.000304 per graph\n",
            "\n",
            "Epoch 3/20, Training Loss: 0.0224, Validation Loss: 0.0457, Average Prediction Time (s): 0.000335 per graph\n",
            "\n",
            "Epoch 4/20, Training Loss: 0.0342, Validation Loss: 0.0079, Average Prediction Time (s): 0.000156 per graph\n",
            "\n",
            "Epoch 5/20, Training Loss: 0.0081, Validation Loss: 0.0109, Average Prediction Time (s): 0.000235 per graph\n",
            "\n",
            "Epoch 6/20, Training Loss: 0.0112, Validation Loss: 0.0028, Average Prediction Time (s): 0.000284 per graph\n",
            "\n",
            "Epoch 7/20, Training Loss: 0.0051, Validation Loss: 0.0011, Average Prediction Time (s): 0.000781 per graph\n",
            "\n",
            "Epoch 8/20, Training Loss: 0.0059, Validation Loss: 0.0008, Average Prediction Time (s): 0.000416 per graph\n",
            "\n",
            "Epoch 9/20, Training Loss: 0.0047, Validation Loss: 0.0003, Average Prediction Time (s): 0.000162 per graph\n",
            "\n",
            "Epoch 10/20, Training Loss: 0.0046, Validation Loss: 0.0010, Average Prediction Time (s): 0.000426 per graph\n",
            "\n",
            "Epoch 11/20, Training Loss: 0.0046, Validation Loss: 0.0003, Average Prediction Time (s): 0.000310 per graph\n",
            "\n",
            "Epoch 12/20, Training Loss: 0.0046, Validation Loss: 0.0002, Average Prediction Time (s): 0.000425 per graph\n",
            "\n",
            "Epoch 13/20, Training Loss: 0.0045, Validation Loss: 0.0003, Average Prediction Time (s): 0.000428 per graph\n",
            "\n",
            "Epoch 14/20, Training Loss: 0.0044, Validation Loss: 0.0004, Average Prediction Time (s): 0.000566 per graph\n",
            "\n",
            "Epoch 15/20, Training Loss: 0.0044, Validation Loss: 0.0002, Average Prediction Time (s): 0.000411 per graph\n",
            "\n",
            "Epoch 16/20, Training Loss: 0.0044, Validation Loss: 0.0002, Average Prediction Time (s): 0.000645 per graph\n",
            "\n",
            "Epoch 17/20, Training Loss: 0.0044, Validation Loss: 0.0002, Average Prediction Time (s): 0.000324 per graph\n",
            "\n",
            "Epoch 18/20, Training Loss: 0.0044, Validation Loss: 0.0002, Average Prediction Time (s): 0.000367 per graph\n",
            "\n",
            "Epoch 19/20, Training Loss: 0.0044, Validation Loss: 0.0002, Average Prediction Time (s): 0.000268 per graph\n",
            "\n",
            "Epoch 20/20, Training Loss: 0.0044, Validation Loss: 0.0002, Average Prediction Time (s): 0.000318 per graph\n",
            "\n"
          ]
        }
      ]
    },
    {
      "cell_type": "code",
      "source": [
        "from sklearn.metrics import mean_squared_error\n",
        "import matplotlib.pyplot as plt\n",
        "\n",
        "# Evaluate on test data\n",
        "model.eval()\n",
        "predictions = []\n",
        "true_values = []\n",
        "\n",
        "with torch.no_grad():\n",
        "    for data in test_loader:\n",
        "        out = model(data).squeeze()  # Predictions from the model\n",
        "        predictions.append(out.cpu().numpy())  # Append predictions\n",
        "        true_values.append(data.y.cpu().numpy())  # Append true values\n",
        "\n",
        "# Flatten the lists\n",
        "predictions = [item for sublist in predictions for item in sublist]\n",
        "true_values = [item for sublist in true_values for item in sublist]\n",
        "\n",
        "# Calculate Mean Squared Error\n",
        "mse = mean_squared_error(true_values, predictions)\n",
        "\n",
        "print(f'Mean Squared Error on Test Set: {mse:.4f}')\n",
        "\n",
        "# Scatter Plot for Predictions vs True Values\n",
        "plt.figure(figsize=(8, 6))\n",
        "plt.scatter(true_values, predictions, alpha=0.6, edgecolor='k', label='Predictions')\n",
        "plt.plot([min(true_values), max(true_values)], [min(true_values), max(true_values)],\n",
        "         'r--', lw=2, label='Ideal Fit (y=x)')\n",
        "plt.xlabel('True Values')\n",
        "plt.ylabel('Predictions')\n",
        "plt.title('Predictions vs True Values on Test Set')\n",
        "plt.legend()\n",
        "plt.grid()\n",
        "plt.show()\n"
      ],
      "metadata": {
        "colab": {
          "base_uri": "https://localhost:8080/",
          "height": 520
        },
        "id": "3wEpi1LOyEHI",
        "outputId": "77397699-e305-4997-fc7e-a25af9522076"
      },
      "execution_count": null,
      "outputs": [
        {
          "output_type": "stream",
          "name": "stdout",
          "text": [
            "Mean Squared Error on Test Set: 0.0002\n"
          ]
        },
        {
          "output_type": "display_data",
          "data": {
            "text/plain": [
              "<Figure size 800x600 with 1 Axes>"
            ],
            "image/png": "[encoded data removed]"
          },
          "metadata": {}
        }
      ]
    },
    {
      "cell_type": "code",
      "source": [
        "print(predictions)\n",
        "print(true_values)"
      ],
      "metadata": {
        "colab": {
          "base_uri": "https://localhost:8080/"
        },
        "id": "TZmzn7__yoQx",
        "outputId": "13a8c156-517e-4b1c-d7cb-1f64580abb7a"
      },
      "execution_count": null,
      "outputs": [
        {
          "output_type": "stream",
          "name": "stdout",
          "text": [
            "[0.969402, 0.96802676, 0.9689284, 0.96879584, 0.9692227, 0.9688719, 0.97035414, 0.9678865, 0.96822965, 0.96924555, 0.9683227, 0.96849465, 0.96911657, 0.9683017, 0.96836805, 0.9700283, 0.9695167, 0.968732, 0.96918637, 0.96879345, 0.96828824, 0.9694589, 0.9697381, 0.96883756, 0.9687476, 0.96972555, 0.96896523, 0.9700248, 0.96882594, 0.96908164, 0.9693861, 0.9685872, 0.9695703, 0.97000223, 0.9690665, 0.96874386, 0.96945715, 0.96860784, 0.9700368, 0.9700376, 0.9682055, 0.9695857, 0.968975, 0.96947926]\n",
            "[0.99232566, 0.9741193, 0.9985338, 0.97060835, 0.97060835, 0.9984458, 0.97060835, 0.9741193, 0.97060835, 0.9741193, 0.9984458, 0.97051364, 0.97051364, 0.97060835, 0.9741193, 0.9741193, 0.97060835, 0.97060835, 0.97051364, 0.97051364, 0.97051364, 0.9985338, 0.9704145, 0.97060835, 0.99232566, 0.97051364, 0.9985338, 0.97060835, 0.9741193, 0.9704145, 0.9984458, 0.97051364, 0.9984458, 0.97051364, 0.9741193, 0.9984458, 0.97051364, 0.9741193, 0.9741193, 0.9741193, 0.9985338, 0.97051364, 0.9984458, 0.9985338]\n"
          ]
        }
      ]
    }
  ]
}